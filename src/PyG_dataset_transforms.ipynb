{
 "cells": [
  {
   "cell_type": "markdown",
   "id": "5c6a4250-47f5-412c-936f-e886e07f9d06",
   "metadata": {},
   "source": [
    "Question to answer in this notebook:\n",
    "1. Is transform called each time the sample is loaded? -- YES\n",
    "2. Is pre-transform possible to use with FakeDataset? -- Code fixes are required"
   ]
  },
  {
   "cell_type": "code",
   "execution_count": 3,
   "id": "ba915ee6-b07d-4f5c-82f0-434ed0db38d3",
   "metadata": {},
   "outputs": [],
   "source": [
    "%load_ext autoreload\n",
    "%autoreload 2"
   ]
  },
  {
   "cell_type": "code",
   "execution_count": 5,
   "id": "31ba7958-0c22-4c0b-9dbb-f771168abafa",
   "metadata": {},
   "outputs": [],
   "source": [
    "from dataset import FakeDatasetIsPlanar, split_dataset\n",
    "from visualization import visualize\n",
    "from model import GCN, SAGE, ConvGNN, CustomSAGE\n",
    "from training.train_eval import TrainEval\n",
    "from training.train_eval_graphless import TrainEvalGraphless\n",
    "\n",
    "from torch_geometric.data import Data\n",
    "from torch_geometric.loader import DataLoader\n",
    "from torch_geometric.transforms import OneHotDegree, Constant\n",
    "from torch_geometric.datasets import FakeDataset\n",
    "from torch_geometric.nn import GCNConv\n",
    "from torch import nn\n",
    "import torch.nn.functional as F\n",
    "\n",
    "from typing import Optional\n",
    "\n",
    "import torch\n",
    "\n",
    "from torch_geometric.data import Data\n",
    "from torch_geometric.data.datapipes import functional_transform\n",
    "from torch_geometric.transforms import BaseTransform\n",
    "\n",
    "from matplotlib import pyplot as plt\n",
    "import torch\n",
    "import random\n",
    "import numpy as np\n"
   ]
  },
  {
   "cell_type": "code",
   "execution_count": 15,
   "id": "18e68344-1709-42ac-8916-62b75aaa942f",
   "metadata": {},
   "outputs": [
    {
     "name": "stdout",
     "output_type": "stream",
     "text": [
      "Planar graphs: 8\n",
      "CPU times: user 19.3 ms, sys: 1.29 ms, total: 20.6 ms\n",
      "Wall time: 19.7 ms\n"
     ]
    },
    {
     "data": {
      "text/plain": [
       "FakeDatasetIsPlanar(20)"
      ]
     },
     "execution_count": 15,
     "metadata": {},
     "output_type": "execute_result"
    }
   ],
   "source": [
    "%%time\n",
    "\n",
    "\n",
    "class Bla(BaseTransform):\n",
    "    def __call__(self, data):\n",
    "        print(\"transform called\")\n",
    "        return data\n",
    "\n",
    "\n",
    "torch.manual_seed(1234)\n",
    "np.random.seed(3241)\n",
    "random.seed(4534)\n",
    "\n",
    "avg_degree = 2\n",
    "max_degree = 15\n",
    "\n",
    "#one_hot_degree = OneHotDegree(max_degree, cat=False)\n",
    "\n",
    "t = Bla()\n",
    "\n",
    "ds_onehot = FakeDatasetIsPlanar(num_graphs=20, avg_num_nodes=15, avg_degree=avg_degree,\n",
    "                                pre_transform=t)\n",
    "print(f\"Planar graphs: {int(ds_onehot.y.sum())}\")\n",
    "ds_onehot"
   ]
  },
  {
   "cell_type": "code",
   "execution_count": 16,
   "id": "34886b48-2141-491d-a326-f308e9f9cbfb",
   "metadata": {},
   "outputs": [
    {
     "data": {
      "text/plain": [
       "Data(edge_index=[2, 48], y=[1], is_planar=[1], pos=[14, 2], num_nodes=15)"
      ]
     },
     "execution_count": 16,
     "metadata": {},
     "output_type": "execute_result"
    }
   ],
   "source": [
    "ds_onehot[0]"
   ]
  },
  {
   "cell_type": "code",
   "execution_count": 17,
   "id": "9cd3be31-dcb2-4186-9af0-7f59904786de",
   "metadata": {},
   "outputs": [
    {
     "data": {
      "text/plain": [
       "(Data(edge_index=[2, 40], y=[1], is_planar=[1], pos=[12, 2], num_nodes=13),\n",
       " Data(edge_index=[2, 40], y=[1], is_planar=[1], pos=[12, 2], num_nodes=13))"
      ]
     },
     "execution_count": 17,
     "metadata": {},
     "output_type": "execute_result"
    }
   ],
   "source": [
    "ds_onehot[10], ds_onehot[10]"
   ]
  }
 ],
 "metadata": {
  "kernelspec": {
   "display_name": "Python 3 (ipykernel)",
   "language": "python",
   "name": "python3"
  },
  "language_info": {
   "codemirror_mode": {
    "name": "ipython",
    "version": 3
   },
   "file_extension": ".py",
   "mimetype": "text/x-python",
   "name": "python",
   "nbconvert_exporter": "python",
   "pygments_lexer": "ipython3",
   "version": "3.10.10"
  }
 },
 "nbformat": 4,
 "nbformat_minor": 5
}
